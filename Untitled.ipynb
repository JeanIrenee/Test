{
 "cells": [
  {
   "cell_type": "code",
   "execution_count": 1,
   "metadata": {},
   "outputs": [],
   "source": [
    "#!/usr/bin/env python\n",
    "#importing packages to use\n",
    "from numpy import*\n",
    "from scipy.cluster.hierarchy import linkage,dendrogram,distance\n",
    "import matplotlib.pyplot as plt"
   ]
  },
  {
   "cell_type": "code",
   "execution_count": 2,
   "metadata": {},
   "outputs": [],
   "source": [
    "#defining a function that standardizes the data\n",
    "def scale(matrix):\n",
    "    import numpy as np\n",
    "    result=np.empty_like(matrix)\n",
    "    for column in range(0,matrix.shape[0]):\n",
    "        tmp=matrix[column,:]\n",
    "        result[column,:]=(tmp-np.mean(tmp))/np.std(tmp)\n",
    "    return result"
   ]
  },
  {
   "cell_type": "code",
   "execution_count": 6,
   "metadata": {},
   "outputs": [],
   "source": [
    "# reading the data from the file\n",
    "table=loadtxt('D:/BlockR3/Research/Codes/Codes/Droughts.txt',skiprows=23,usecols=(2,3,4,5,6,7,8,9,10,11,12,13,14,15,16,17)).T\n",
    "# Replacing the missing values (-999) with -2.33 \n",
    "table[table==-999]=-2.33\n",
    "#calling the standardizing function\n",
    "table1=scale(table[:,0:612:12])\n",
    "#clustering\n",
    "Y=linkage(table1,method='ward',metric='euclidean')\n",
    "#nameset for labeling\n",
    "nameset=('Year','Month','Cld','Pet','Pre','Tmn','Tmp','Tmx','Vap','Wet','spei01','MEI','NINO34','QBO','SOI','AO','ONI','WP')\n",
    "cluster_nameset=nameset[2:18]\n",
    "# defines the color of the dendrogram'\n",
    "def f(x): \n",
    "       return 'black'\n",
    "# plotting a dendrogram to visualise the clustering\n",
    "dendrogram(Y,labels=cluster_nameset,leaf_rotation=90,color_threshold=10,leaf_font_size=10,link_color_func=f)\n",
    "plt.ylabel('height')\n",
    "plt.title('Cluster Analysis Droughts')\n",
    "#creating a horizontal line\n",
    "#plt.axhline(y=15)\n",
    "#saving the plot \n",
    "plt.savefig('dendro.png')\n",
    "plt.close()\n"
   ]
  },
  {
   "cell_type": "code",
   "execution_count": 5,
   "metadata": {},
   "outputs": [
    {
     "data": {
      "text/plain": [
       "2"
      ]
     },
     "execution_count": 5,
     "metadata": {},
     "output_type": "execute_result"
    }
   ],
   "source": [
    "ndim(table)"
   ]
  }
 ],
 "metadata": {
  "kernelspec": {
   "display_name": "Python 3",
   "language": "python",
   "name": "python3"
  },
  "language_info": {
   "codemirror_mode": {
    "name": "ipython",
    "version": 3
   },
   "file_extension": ".py",
   "mimetype": "text/x-python",
   "name": "python",
   "nbconvert_exporter": "python",
   "pygments_lexer": "ipython3",
   "version": "3.8.5"
  }
 },
 "nbformat": 4,
 "nbformat_minor": 4
}
