{
 "cells": [
  {
   "cell_type": "markdown",
   "metadata": {},
   "source": [
    "# 1. Euler Method"
   ]
  },
  {
   "cell_type": "code",
   "execution_count": 1,
   "metadata": {},
   "outputs": [],
   "source": [
    "import numpy as np\n",
    "import matplotlib.pyplot as plt"
   ]
  },
  {
   "cell_type": "code",
   "execution_count": 2,
   "metadata": {},
   "outputs": [],
   "source": [
    "def EulerMethod(a,b,c,N,f):\n",
    "#     h = (b-a)/N\n",
    "    x = np.linspace(a,b,N+1)\n",
    "    h = x[1] - x[0]\n",
    "    y = np.zeros(N+1) \n",
    "#     y = np.zeros(len(x)) \n",
    "    y[0] = c\n",
    "    for i in range(0,N):\n",
    "        y[i+1] = y[i] + h*f(y[i],x[i])\n",
    "    return y"
   ]
  },
  {
   "cell_type": "code",
   "execution_count": 3,
   "metadata": {},
   "outputs": [],
   "source": [
    "def EulerMethod1(f,c,x):\n",
    "\n",
    "    h = x[1] - x[0]\n",
    "    y = np.zeros(len(x)) \n",
    "#     y = np.zeros(len(x)) \n",
    "    y[0] = c\n",
    "    for i in range(0,len(x)-1):\n",
    "        y[i+1] = y[i] + h*f(y[i],x[i])\n",
    "    return y"
   ]
  },
  {
   "cell_type": "code",
   "execution_count": 4,
   "metadata": {},
   "outputs": [],
   "source": [
    "a = 0\n",
    "b = 1\n",
    "c = 1/9\n",
    "N = 100\n",
    "\n",
    "def f(y,x):\n",
    "    return np.exp(x)/(3+6*np.exp(x))\n",
    "\n",
    "# g = lambda y,x: np.exp(x)/(3+6*np.exp(x))\n",
    "\n",
    "\n",
    "# EulerMethod(a,b,c,N,f)"
   ]
  },
  {
   "cell_type": "code",
   "execution_count": 5,
   "metadata": {},
   "outputs": [],
   "source": [
    "t = np.linspace(a,b,N+1)\n",
    "# EulerMethod1(f,c,t)"
   ]
  },
  {
   "cell_type": "code",
   "execution_count": 6,
   "metadata": {},
   "outputs": [],
   "source": [
    "def RangeKutta2(a,b,c,N,f):\n",
    "#     h = (b-a)/N\n",
    "    x = np.linspace(a,b,N+1)\n",
    "    h = x[1] - x[0]\n",
    "    y = np.zeros(N+1) \n",
    "#     y = np.zeros(len(x)) \n",
    "    y[0] = c\n",
    "    for i in range(0,N):\n",
    "        k1 = h*f(y[i],x[i])\n",
    "        k2 = h*f(y[i]+k1,x[i]+h)\n",
    "        y[i+1] = y[i] + (1/2)*(k1+k2)\n",
    "    return y"
   ]
  },
  {
   "cell_type": "code",
   "execution_count": 7,
   "metadata": {},
   "outputs": [],
   "source": [
    "# RangeKutta2(a,b,c,N,f)"
   ]
  },
  {
   "cell_type": "code",
   "execution_count": 8,
   "metadata": {},
   "outputs": [],
   "source": [
    "def RangeKutta4(a,b,c,N,f):\n",
    "#     h = (b-a)/N\n",
    "    x = np.linspace(a,b,N+1)\n",
    "    h = x[1] - x[0]\n",
    "    y = np.zeros(N+1) \n",
    "#     y = np.zeros(len(x)) \n",
    "    y[0] = c\n",
    "    for i in range(0,N):\n",
    "        k1 = h*f(y[i],x[i])\n",
    "        k2 = h*f(y[i]+(k1/2),x[i]+(h/2))\n",
    "        k3 = h*f(y[i]+(k2/2),x[i]+(h/2))\n",
    "        k4 = h*f(y[i]+k3,x[i]+h)\n",
    "        y[i+1] = y[i] + (1/6)*(k1+2*k2+2*k3+k4)\n",
    "    return y"
   ]
  },
  {
   "cell_type": "code",
   "execution_count": 9,
   "metadata": {},
   "outputs": [],
   "source": [
    "# RangeKutta4(a,b,c,N,f)"
   ]
  },
  {
   "cell_type": "code",
   "execution_count": 20,
   "metadata": {},
   "outputs": [],
   "source": [
    "def EulerMethodSyst(a,b,c,N,f):\n",
    "#     h = (b-a)/N\n",
    "    t = np.linspace(a,b,N+1)\n",
    "    h = t[1] - t[0]\n",
    "    z = np.zeros((N+1,len(c))) \n",
    "    z[0,] = c\n",
    "    for i in range(0,N):\n",
    "        z[i+1,] = z[i,] + h*f(z[i,],t[i])\n",
    "    return z"
   ]
  },
  {
   "cell_type": "code",
   "execution_count": 21,
   "metadata": {},
   "outputs": [],
   "source": [
    "def RangeKutta2syst(a,b,c,N,f):\n",
    "#     h = (b-a)/N\n",
    "    x = np.linspace(a,b,N+1)\n",
    "    h = x[1] - x[0]\n",
    "    y = np.zeros((N+1, len(c))) \n",
    "#     y = np.zeros(len(x)) \n",
    "    y[0] = c\n",
    "    for i in range(0,N):\n",
    "        k1 = h*f(y[i],x[i])\n",
    "        k2 = h*f(y[i]+k1,x[i]+h)\n",
    "        y[i+1] = y[i] + (1/2)*(k1+k2)\n",
    "    return y"
   ]
  },
  {
   "cell_type": "code",
   "execution_count": 51,
   "metadata": {},
   "outputs": [],
   "source": [
    "a=0\n",
    "b=1\n",
    "c=[1,0]\n",
    "N=100\n",
    "\n",
    "def f(z,t):\n",
    "    x,y = z\n",
    "    dxdt = 3*x - 2*y\n",
    "    dydt = 2*x - 2*y\n",
    "    return np.array([dxdt,dydt])\n",
    "zEuler = EulerMethodSyst(a,b,c,N,f)"
   ]
  },
  {
   "cell_type": "code",
   "execution_count": 52,
   "metadata": {},
   "outputs": [],
   "source": [
    "zRK2 = RangeKutta2syst(a,b,c,N,f)"
   ]
  },
  {
   "cell_type": "code",
   "execution_count": 30,
   "metadata": {},
   "outputs": [
    {
     "data": {
      "text/plain": [
       "[<matplotlib.lines.Line2D at 0x7fadfdb25208>]"
      ]
     },
     "execution_count": 30,
     "metadata": {},
     "output_type": "execute_result"
    },
    {
     "data": {
      "image/png": "[encoded data removed]",
      "text/plain": [
       "<Figure size 432x288 with 1 Axes>"
      ]
     },
     "metadata": {
      "needs_background": "light"
     },
     "output_type": "display_data"
    }
   ],
   "source": [
    "Xt = -1/3*np.exp(-t) + 4/3*np.exp(2*t)\n",
    "Yt = -2/3*np.exp(-t) + 2/3*np.exp(2*t)\n",
    "\n",
    "#plt.subplot(2,2,1)\n",
    "plt.plot(t, Xt)\n",
    "plt.plot(t, Yt)"
   ]
  },
  {
   "cell_type": "code",
   "execution_count": 40,
   "metadata": {},
   "outputs": [
    {
     "data": {
      "text/plain": [
       "<matplotlib.legend.Legend at 0x7fadfd7a99b0>"
      ]
     },
     "execution_count": 40,
     "metadata": {},
     "output_type": "execute_result"
    },
    {
     "data": {
      "image/png": "[encoded data removed]",
      "text/plain": [
       "<Figure size 432x288 with 2 Axes>"
      ]
     },
     "metadata": {
      "needs_background": "light"
     },
     "output_type": "display_data"
    }
   ],
   "source": [
    "#ERRORS\n",
    "zEuler = EulerMethodSyst(a,b,c,N,f)\n",
    "xEuler = zEuler[:,0]\n",
    "yEuler = zEuler[:,1]\n",
    "xRK2 = zRK2[:,0]\n",
    "yRK2 = zRK2[:,1]\n",
    "Er1 = abs(Xt - xEuler)\n",
    "Er2 = abs(Yt - yEuler)\n",
    "Er3 = abs(Xt - xRK2)\n",
    "Er4 = abs(Yt - yRK2)\n",
    "\n",
    "plt.subplot(2,1,1)\n",
    "plt.plot(t,Er1)\n",
    "plt.plot(t,Er3)\n",
    "plt.legend([ 'Euler', 'RK2'])\n",
    "\n",
    "plt.subplot(2,1,2)\n",
    "plt.plot(t, Er2)\n",
    "plt.plot(t, Er4)\n",
    "plt.legend([ 'Euler', 'RK2'])"
   ]
  },
  {
   "cell_type": "code",
   "execution_count": 50,
   "metadata": {},
   "outputs": [
    {
     "data": {
      "text/plain": [
       "<matplotlib.legend.Legend at 0x7fadfd1e4fd0>"
      ]
     },
     "execution_count": 50,
     "metadata": {},
     "output_type": "execute_result"
    },
    {
     "data": {
      "image/png": "[encoded data removed]",
      "text/plain": [
       "<Figure size 432x288 with 2 Axes>"
      ]
     },
     "metadata": {
      "needs_background": "light"
     },
     "output_type": "display_data"
    }
   ],
   "source": [
    "plt.subplot(2,1,1)\n",
    "plt.plot(t, xEuler)\n",
    "plt.plot(t, xRK2)\n",
    "plt.plot(t[::5], Xt[::5], '*')\n",
    "plt.legend(['Euler', 'RK2', 'Exact'])\n",
    "\n",
    "plt.subplot(2,1,2)\n",
    "plt.plot(t, yEuler)\n",
    "plt.plot(t, yRK2)\n",
    "plt.plot(t[::5],Yt[::5], '*')\n",
    "plt.legend(['Euler', 'RK2', 'Exact'])"
   ]
  },
  {
   "cell_type": "code",
   "execution_count": 82,
   "metadata": {},
   "outputs": [],
   "source": [
    "def ExpoMethod(a,b,A,F,h,u0):\n",
    "    N = int((b-a)/h)\n",
    "    t = np.linspace(a,b,N+1)\n",
    "  #  t = np.arange(a,b+h,h)\n",
    "   # I = np.eye(np.shape(A)[0])\n",
    "    I = np.eye(len(A))\n",
    "    B1 = np.exp(h*A)\n",
    "    B2 = (np.exp(h*A) - I)@np.linalg.inv(A)\n",
    "    \n",
    "    U = np.zeros((N+1, len(u0)))\n",
    "    U[0] = u0\n",
    "    \n",
    "    for i in range (0,N):\n",
    "       # U[i+1] = B1@np.transpose(U[i]) + B2@np.transpose((F(U[i],t[i])))\n",
    "        \n",
    "         U[i+1] = np.dot(B1,U[i]) + np.dot(B2,F(U[i],t[i]))\n",
    "    return U, t"
   ]
  },
  {
   "cell_type": "code",
   "execution_count": 85,
   "metadata": {
    "scrolled": true
   },
   "outputs": [
    {
     "data": {
      "text/plain": [
       "(array([[2.00000000e+000, 1.00000000e+000, 2.00000000e+000],\n",
       "        [4.97523048e+000, 4.97506240e+000, 5.03513790e+000],\n",
       "        [1.48993604e+001, 1.49106943e+001, 1.50856085e+001],\n",
       "        ...,\n",
       "        [7.60468607e+189, 7.61046344e+189, 7.69973702e+189],\n",
       "        [2.27832893e+190, 2.28005981e+190, 2.30680576e+190],\n",
       "        [6.82576858e+190, 6.83095420e+190, 6.91108384e+190]]),\n",
       " array([0.    , 0.0025, 0.005 , 0.0075, 0.01  , 0.0125, 0.015 , 0.0175,\n",
       "        0.02  , 0.0225, 0.025 , 0.0275, 0.03  , 0.0325, 0.035 , 0.0375,\n",
       "        0.04  , 0.0425, 0.045 , 0.0475, 0.05  , 0.0525, 0.055 , 0.0575,\n",
       "        0.06  , 0.0625, 0.065 , 0.0675, 0.07  , 0.0725, 0.075 , 0.0775,\n",
       "        0.08  , 0.0825, 0.085 , 0.0875, 0.09  , 0.0925, 0.095 , 0.0975,\n",
       "        0.1   , 0.1025, 0.105 , 0.1075, 0.11  , 0.1125, 0.115 , 0.1175,\n",
       "        0.12  , 0.1225, 0.125 , 0.1275, 0.13  , 0.1325, 0.135 , 0.1375,\n",
       "        0.14  , 0.1425, 0.145 , 0.1475, 0.15  , 0.1525, 0.155 , 0.1575,\n",
       "        0.16  , 0.1625, 0.165 , 0.1675, 0.17  , 0.1725, 0.175 , 0.1775,\n",
       "        0.18  , 0.1825, 0.185 , 0.1875, 0.19  , 0.1925, 0.195 , 0.1975,\n",
       "        0.2   , 0.2025, 0.205 , 0.2075, 0.21  , 0.2125, 0.215 , 0.2175,\n",
       "        0.22  , 0.2225, 0.225 , 0.2275, 0.23  , 0.2325, 0.235 , 0.2375,\n",
       "        0.24  , 0.2425, 0.245 , 0.2475, 0.25  , 0.2525, 0.255 , 0.2575,\n",
       "        0.26  , 0.2625, 0.265 , 0.2675, 0.27  , 0.2725, 0.275 , 0.2775,\n",
       "        0.28  , 0.2825, 0.285 , 0.2875, 0.29  , 0.2925, 0.295 , 0.2975,\n",
       "        0.3   , 0.3025, 0.305 , 0.3075, 0.31  , 0.3125, 0.315 , 0.3175,\n",
       "        0.32  , 0.3225, 0.325 , 0.3275, 0.33  , 0.3325, 0.335 , 0.3375,\n",
       "        0.34  , 0.3425, 0.345 , 0.3475, 0.35  , 0.3525, 0.355 , 0.3575,\n",
       "        0.36  , 0.3625, 0.365 , 0.3675, 0.37  , 0.3725, 0.375 , 0.3775,\n",
       "        0.38  , 0.3825, 0.385 , 0.3875, 0.39  , 0.3925, 0.395 , 0.3975,\n",
       "        0.4   , 0.4025, 0.405 , 0.4075, 0.41  , 0.4125, 0.415 , 0.4175,\n",
       "        0.42  , 0.4225, 0.425 , 0.4275, 0.43  , 0.4325, 0.435 , 0.4375,\n",
       "        0.44  , 0.4425, 0.445 , 0.4475, 0.45  , 0.4525, 0.455 , 0.4575,\n",
       "        0.46  , 0.4625, 0.465 , 0.4675, 0.47  , 0.4725, 0.475 , 0.4775,\n",
       "        0.48  , 0.4825, 0.485 , 0.4875, 0.49  , 0.4925, 0.495 , 0.4975,\n",
       "        0.5   , 0.5025, 0.505 , 0.5075, 0.51  , 0.5125, 0.515 , 0.5175,\n",
       "        0.52  , 0.5225, 0.525 , 0.5275, 0.53  , 0.5325, 0.535 , 0.5375,\n",
       "        0.54  , 0.5425, 0.545 , 0.5475, 0.55  , 0.5525, 0.555 , 0.5575,\n",
       "        0.56  , 0.5625, 0.565 , 0.5675, 0.57  , 0.5725, 0.575 , 0.5775,\n",
       "        0.58  , 0.5825, 0.585 , 0.5875, 0.59  , 0.5925, 0.595 , 0.5975,\n",
       "        0.6   , 0.6025, 0.605 , 0.6075, 0.61  , 0.6125, 0.615 , 0.6175,\n",
       "        0.62  , 0.6225, 0.625 , 0.6275, 0.63  , 0.6325, 0.635 , 0.6375,\n",
       "        0.64  , 0.6425, 0.645 , 0.6475, 0.65  , 0.6525, 0.655 , 0.6575,\n",
       "        0.66  , 0.6625, 0.665 , 0.6675, 0.67  , 0.6725, 0.675 , 0.6775,\n",
       "        0.68  , 0.6825, 0.685 , 0.6875, 0.69  , 0.6925, 0.695 , 0.6975,\n",
       "        0.7   , 0.7025, 0.705 , 0.7075, 0.71  , 0.7125, 0.715 , 0.7175,\n",
       "        0.72  , 0.7225, 0.725 , 0.7275, 0.73  , 0.7325, 0.735 , 0.7375,\n",
       "        0.74  , 0.7425, 0.745 , 0.7475, 0.75  , 0.7525, 0.755 , 0.7575,\n",
       "        0.76  , 0.7625, 0.765 , 0.7675, 0.77  , 0.7725, 0.775 , 0.7775,\n",
       "        0.78  , 0.7825, 0.785 , 0.7875, 0.79  , 0.7925, 0.795 , 0.7975,\n",
       "        0.8   , 0.8025, 0.805 , 0.8075, 0.81  , 0.8125, 0.815 , 0.8175,\n",
       "        0.82  , 0.8225, 0.825 , 0.8275, 0.83  , 0.8325, 0.835 , 0.8375,\n",
       "        0.84  , 0.8425, 0.845 , 0.8475, 0.85  , 0.8525, 0.855 , 0.8575,\n",
       "        0.86  , 0.8625, 0.865 , 0.8675, 0.87  , 0.8725, 0.875 , 0.8775,\n",
       "        0.88  , 0.8825, 0.885 , 0.8875, 0.89  , 0.8925, 0.895 , 0.8975,\n",
       "        0.9   , 0.9025, 0.905 , 0.9075, 0.91  , 0.9125, 0.915 , 0.9175,\n",
       "        0.92  , 0.9225, 0.925 , 0.9275, 0.93  , 0.9325, 0.935 , 0.9375,\n",
       "        0.94  , 0.9425, 0.945 , 0.9475, 0.95  , 0.9525, 0.955 , 0.9575,\n",
       "        0.96  , 0.9625, 0.965 , 0.9675, 0.97  , 0.9725, 0.975 , 0.9775,\n",
       "        0.98  , 0.9825, 0.985 , 0.9875, 0.99  , 0.9925, 0.995 , 0.9975,\n",
       "        1.    ]))"
      ]
     },
     "execution_count": 85,
     "metadata": {},
     "output_type": "execute_result"
    }
   ],
   "source": [
    "a = 0\n",
    "b = 1\n",
    "h = 0.0025\n",
    "A = np.array([[-5,-4,2],[-2,-2,-2],[4,2,2]])\n",
    "u0 = np.array([2,1,2])\n",
    "\n",
    "def F(u,t):\n",
    "    dxdt = t**3\n",
    "    dydt = 0\n",
    "    dzdt = t**2\n",
    "    return np.array([dxdt,dydt,dzdt])\n",
    "\n",
    "U,t = ExpoMethod(a,b,A,F,h,u0)\n",
    "\n",
    "\n",
    "def G(u,t):\n",
    "    g = np.empty(len(u))\n",
    "    return g\n",
    "U1, t1 = ExpoMethod(a,b,A,G,h,u0)"
   ]
  },
  {
   "cell_type": "code",
   "execution_count": 86,
   "metadata": {},
   "outputs": [
    {
     "data": {
      "text/plain": [
       "array([[1., 0.],\n",
       "       [0., 1.],\n",
       "       [0., 0.],\n",
       "       [0., 0.],\n",
       "       [0., 0.]])"
      ]
     },
     "execution_count": 86,
     "metadata": {},
     "output_type": "execute_result"
    }
   ],
   "source": [
    "np.eye(5,2)"
   ]
  },
  {
   "cell_type": "code",
   "execution_count": null,
   "metadata": {},
   "outputs": [],
   "source": []
  }
 ],
 "metadata": {
  "kernelspec": {
   "display_name": "Python 3",
   "language": "python",
   "name": "python3"
  },
  "language_info": {
   "codemirror_mode": {
    "name": "ipython",
    "version": 3
   },
   "file_extension": ".py",
   "mimetype": "text/x-python",
   "name": "python",
   "nbconvert_exporter": "python",
   "pygments_lexer": "ipython3",
   "version": "3.8.5"
  }
 },
 "nbformat": 4,
 "nbformat_minor": 2
}
