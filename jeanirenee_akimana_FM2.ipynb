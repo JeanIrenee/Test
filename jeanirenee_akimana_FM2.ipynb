{
 "cells": [
  {
   "cell_type": "code",
   "execution_count": 34,
   "metadata": {},
   "outputs": [],
   "source": [
    "import numpy as np\n",
    "from pandas_datareader import data as reader\n",
    "import scipy.stats\n",
    "import matplotlib.pyplot as plt"
   ]
  },
  {
   "cell_type": "markdown",
   "metadata": {},
   "source": [
    "# Exercise 1"
   ]
  },
  {
   "cell_type": "code",
   "execution_count": 94,
   "metadata": {},
   "outputs": [],
   "source": [
    "# RH = np.arange(0,1+0.01,0.01)\n",
    "RH = np.linspace(0,1,100)"
   ]
  },
  {
   "cell_type": "code",
   "execution_count": 95,
   "metadata": {},
   "outputs": [],
   "source": [
    "def Sigma(RH):\n",
    "    sigmaH = (1/400)*np.sqrt(210000*(RH**2) - 42000*RH + 2356)\n",
    "    return sigmaH"
   ]
  },
  {
   "cell_type": "code",
   "execution_count": 96,
   "metadata": {},
   "outputs": [],
   "source": [
    "Free_Risk = 0.06"
   ]
  },
  {
   "cell_type": "markdown",
   "metadata": {},
   "source": [
    "Capital Market line is given by\n",
    "\\begin{align}\n",
    "\\bar{R} = \\theta_{max} \\sigma + \\bar{R_0}\n",
    "\\end{align}"
   ]
  },
  {
   "cell_type": "code",
   "execution_count": 97,
   "metadata": {},
   "outputs": [],
   "source": [
    "theta_max = 1.32736\n",
    "R_bar = theta_max*Sigma(RH) + Free_Risk"
   ]
  },
  {
   "cell_type": "code",
   "execution_count": 99,
   "metadata": {},
   "outputs": [
    {
     "data": {
      "image/png": "[encoded data removed]",
      "text/plain": [
       "<Figure size 576x432 with 1 Axes>"
      ]
     },
     "metadata": {
      "needs_background": "light"
     },
     "output_type": "display_data"
    }
   ],
   "source": [
    "fig2 = plt.figure(figsize=(8,6))\n",
    "\n",
    "plt.plot(Sigma(RH),RH,'b-')\n",
    "plt.plot(Sigma(RH),R_bar,'r-')\n",
    "\n",
    "plt.title(' CML and Efficient Frontier')\n",
    "plt.legend(['Efficient frontier','Capital Market line'])\n",
    "\n",
    "plt.xlim(0,0.5)\n",
    "plt.xlabel(\"Risk\")\n",
    "plt.ylabel(\" Expected returns\")\n",
    "\n",
    "\n",
    "\n",
    "plt.grid()\n",
    "\n",
    "plt.show()"
   ]
  },
  {
   "cell_type": "markdown",
   "metadata": {},
   "source": [
    "# Exercise 4"
   ]
  },
  {
   "cell_type": "code",
   "execution_count": 90,
   "metadata": {},
   "outputs": [],
   "source": [
    "def VaR(Position,mean,sigma,CI):\n",
    "    return Position-Position*(scipy.stats.norm.ppf(1-CI,mean,sigma)+1)"
   ]
  },
  {
   "cell_type": "code",
   "execution_count": 93,
   "metadata": {},
   "outputs": [
    {
     "name": "stdout",
     "output_type": "stream",
     "text": [
      " The mean for Netflix is : 0.001509 USD\n",
      " The Variance for Netflix is : 0.000545\n",
      " The Value at Risk is : 36.90 USD\n"
     ]
    }
   ],
   "source": [
    "Netflix = reader.get_data_yahoo(\"NFLX\",start=\"2017-01-01\"\n",
    "                                ,end=\"2020-01-01\")['Adj Close']\n",
    "\n",
    "returns =  Netflix.pct_change()\n",
    "\n",
    "mean = returns.mean()\n",
    "sigma = returns.std()\n",
    "Position = 1000 #1000 USD\n",
    "CI = 0.95\n",
    "\n",
    "VAR = VaR(Position,mean,sigma,CI)\n",
    "\n",
    "print(\" The mean for Netflix is : %f USD\" % mean)\n",
    "print(\" The Variance for Netflix is : %f\" % sigma**(2))\n",
    "print(\" The Value at Risk is : %0.2f USD\" % VAR)"
   ]
  },
  {
   "cell_type": "code",
   "execution_count": null,
   "metadata": {},
   "outputs": [],
   "source": []
  }
 ],
 "metadata": {
  "kernelspec": {
   "display_name": "Python 3",
   "language": "python",
   "name": "python3"
  },
  "language_info": {
   "codemirror_mode": {
    "name": "ipython",
    "version": 3
   },
   "file_extension": ".py",
   "mimetype": "text/x-python",
   "name": "python",
   "nbconvert_exporter": "python",
   "pygments_lexer": "ipython3",
   "version": "3.8.5"
  }
 },
 "nbformat": 4,
 "nbformat_minor": 4
}
