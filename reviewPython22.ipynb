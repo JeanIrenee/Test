{
 "cells": [
  {
   "cell_type": "markdown",
   "metadata": {},
   "source": [
    "# 1. Euler Method"
   ]
  },
  {
   "cell_type": "code",
   "execution_count": 27,
   "metadata": {},
   "outputs": [],
   "source": [
    "import numpy as np\n",
    "import scipy as sc\n",
    "import matplotlib.pyplot as plt"
   ]
  },
  {
   "cell_type": "code",
   "execution_count": 2,
   "metadata": {},
   "outputs": [],
   "source": [
    "def EulerMethod(a,b,c,N,f):\n",
    "#     h = (b-a)/N\n",
    "    x = np.linspace(a,b,N+1)\n",
    "    h = x[1] - x[0]\n",
    "    y = np.zeros(N+1) \n",
    "#     y = np.zeros(len(x)) \n",
    "    y[0] = c\n",
    "    for i in range(0,N):\n",
    "        y[i+1] = y[i] + h*f(y[i],x[i])\n",
    "    return y"
   ]
  },
  {
   "cell_type": "code",
   "execution_count": 3,
   "metadata": {},
   "outputs": [],
   "source": [
    "def EulerMethod1(f,c,x):\n",
    "\n",
    "    h = x[1] - x[0]\n",
    "    y = np.zeros(len(x)) \n",
    "#     y = np.zeros(len(x)) \n",
    "    y[0] = c\n",
    "    for i in range(0,len(x)-1):\n",
    "        y[i+1] = y[i] + h*f(y[i],x[i])\n",
    "    return y"
   ]
  },
  {
   "cell_type": "code",
   "execution_count": 4,
   "metadata": {},
   "outputs": [],
   "source": [
    "a = 0\n",
    "b = 1\n",
    "c = 1/9\n",
    "N = 100\n",
    "\n",
    "def f(y,x):\n",
    "    return np.exp(x)/(3+6*np.exp(x))\n",
    "\n",
    "# g = lambda y,x: np.exp(x)/(3+6*np.exp(x))\n",
    "\n",
    "\n",
    "# EulerMethod(a,b,c,N,f)"
   ]
  },
  {
   "cell_type": "code",
   "execution_count": 5,
   "metadata": {},
   "outputs": [],
   "source": [
    "t = np.linspace(a,b,N+1)\n",
    "# EulerMethod1(f,c,t)"
   ]
  },
  {
   "cell_type": "code",
   "execution_count": 6,
   "metadata": {},
   "outputs": [],
   "source": [
    "def RangeKutta2(a,b,c,N,f):\n",
    "#     h = (b-a)/N\n",
    "    x = np.linspace(a,b,N+1)\n",
    "    h = x[1] - x[0]\n",
    "    y = np.zeros(N+1) \n",
    "#     y = np.zeros(len(x)) \n",
    "    y[0] = c\n",
    "    for i in range(0,N):\n",
    "        k1 = h*f(y[i],x[i])\n",
    "        k2 = h*f(y[i]+k1,x[i]+h)\n",
    "        y[i+1] = y[i] + (1/2)*(k1+k2)\n",
    "    return y"
   ]
  },
  {
   "cell_type": "code",
   "execution_count": 7,
   "metadata": {},
   "outputs": [],
   "source": [
    "# RangeKutta2(a,b,c,N,f)"
   ]
  },
  {
   "cell_type": "code",
   "execution_count": 8,
   "metadata": {},
   "outputs": [],
   "source": [
    "def RangeKutta4(a,b,c,N,f):\n",
    "#     h = (b-a)/N\n",
    "    x = np.linspace(a,b,N+1)\n",
    "    h = x[1] - x[0]\n",
    "    y = np.zeros(N+1) \n",
    "#     y = np.zeros(len(x)) \n",
    "    y[0] = c\n",
    "    for i in range(0,N):\n",
    "        k1 = h*f(y[i],x[i])\n",
    "        k2 = h*f(y[i]+(k1/2),x[i]+(h/2))\n",
    "        k3 = h*f(y[i]+(k2/2),x[i]+(h/2))\n",
    "        k4 = h*f(y[i]+k3,x[i]+h)\n",
    "        y[i+1] = y[i] + (1/6)*(k1+2*k2+2*k3+k4)\n",
    "    return y"
   ]
  },
  {
   "cell_type": "code",
   "execution_count": 9,
   "metadata": {},
   "outputs": [],
   "source": [
    "# RangeKutta4(a,b,c,N,f)"
   ]
  },
  {
   "cell_type": "code",
   "execution_count": 10,
   "metadata": {},
   "outputs": [],
   "source": [
    "def EulerMethodSyst(a,b,c,N,f):\n",
    "#     h = (b-a)/N\n",
    "    t = np.linspace(a,b,N+1)\n",
    "    h = t[1] - t[0]\n",
    "    z = np.zeros((N+1,len(c))) \n",
    "    z[0,] = c\n",
    "    for i in range(0,N):\n",
    "        z[i+1,] = z[i,] + h*f(z[i,],t[i])\n",
    "    return z"
   ]
  },
  {
   "cell_type": "code",
   "execution_count": 11,
   "metadata": {},
   "outputs": [],
   "source": [
    "def RangeKutta2syst(a,b,c,N,f):\n",
    "#     h = (b-a)/N\n",
    "    x = np.linspace(a,b,N+1)\n",
    "    h = x[1] - x[0]\n",
    "    y = np.zeros((N+1, len(c))) \n",
    "#     y = np.zeros(len(x)) \n",
    "    y[0] = c\n",
    "    for i in range(0,N):\n",
    "        k1 = h*f(y[i],x[i])\n",
    "        k2 = h*f(y[i]+k1,x[i]+h)\n",
    "        y[i+1] = y[i] + (1/2)*(k1+k2)\n",
    "    return y"
   ]
  },
  {
   "cell_type": "code",
   "execution_count": 26,
   "metadata": {},
   "outputs": [
    {
     "data": {
      "text/plain": [
       "array([[1.        , 0.        ],\n",
       "       [1.03      , 0.02      ],\n",
       "       [1.0605    , 0.0402    ],\n",
       "       [1.091511  , 0.060606  ],\n",
       "       [1.12304421, 0.0812241 ],\n",
       "       [1.15511105, 0.1020605 ],\n",
       "       [1.18772318, 0.12312151],\n",
       "       [1.22089244, 0.14441355],\n",
       "       [1.25463094, 0.16594312],\n",
       "       [1.28895101, 0.18771688],\n",
       "       [1.3238652 , 0.20974156],\n",
       "       [1.35938633, 0.23202404],\n",
       "       [1.39552744, 0.25457128],\n",
       "       [1.43230183, 0.2773904 ],\n",
       "       [1.46972308, 0.30048863],\n",
       "       [1.507805  , 0.32387332],\n",
       "       [1.54656168, 0.34755196],\n",
       "       [1.58600749, 0.37153215],\n",
       "       [1.62615708, 0.39582166],\n",
       "       [1.66702536, 0.42042837],\n",
       "       [1.70862755, 0.44536031],\n",
       "       [1.75097917, 0.47062565],\n",
       "       [1.79409603, 0.49623272],\n",
       "       [1.83799426, 0.52218999],\n",
       "       [1.88269029, 0.54850607],\n",
       "       [1.92820087, 0.57518976],\n",
       "       [1.9745431 , 0.60224998],\n",
       "       [2.0217344 , 0.62969584],\n",
       "       [2.06979251, 0.65753661],\n",
       "       [2.11873556, 0.68578173],\n",
       "       [2.16858199, 0.71444081],\n",
       "       [2.21935063, 0.74352363],\n",
       "       [2.27106068, 0.77304017],\n",
       "       [2.32373169, 0.80300058],\n",
       "       [2.37738363, 0.8334152 ],\n",
       "       [2.43203684, 0.86429457],\n",
       "       [2.48771205, 0.89564942],\n",
       "       [2.54443043, 0.92749067],\n",
       "       [2.60221352, 0.95982946],\n",
       "       [2.66108334, 0.99267715],\n",
       "       [2.7210623 , 1.02604527],\n",
       "       [2.78217326, 1.05994561],\n",
       "       [2.84443955, 1.09439016],\n",
       "       [2.90788493, 1.12939115],\n",
       "       [2.97253366, 1.16496103],\n",
       "       [3.03841045, 1.20111248],\n",
       "       [3.10554051, 1.23785844],\n",
       "       [3.17394956, 1.27521208],\n",
       "       [3.2436638 , 1.31318683],\n",
       "       [3.31470998, 1.35179637],\n",
       "       [3.38711535, 1.39105464],\n",
       "       [3.46090772, 1.43097586],\n",
       "       [3.53611543, 1.47157449],\n",
       "       [3.6127674 , 1.51286531],\n",
       "       [3.69089312, 1.55486335],\n",
       "       [3.77052265, 1.59758395],\n",
       "       [3.85168665, 1.64104272],\n",
       "       [3.93441639, 1.6852556 ],\n",
       "       [4.01874377, 1.73023882],\n",
       "       [4.10470131, 1.77600892],\n",
       "       [4.19232217, 1.82258276],\n",
       "       [4.28164018, 1.86997755],\n",
       "       [4.37268983, 1.9182108 ],\n",
       "       [4.46550631, 1.96730039],\n",
       "       [4.5601255 , 2.0172645 ],\n",
       "       [4.65658397, 2.06812172],\n",
       "       [4.75491905, 2.11989097],\n",
       "       [4.85516881, 2.17259153],\n",
       "       [4.95737204, 2.22624308],\n",
       "       [5.06156834, 2.28086566],\n",
       "       [5.16779808, 2.33647971],\n",
       "       [5.27610243, 2.39310608],\n",
       "       [5.38652338, 2.450766  ],\n",
       "       [5.49910376, 2.50948115],\n",
       "       [5.61388725, 2.5692736 ],\n",
       "       [5.73091839, 2.63016588],\n",
       "       [5.85024263, 2.69218093],\n",
       "       [5.97190629, 2.75534216],\n",
       "       [6.09595663, 2.81967344],\n",
       "       [6.22244186, 2.88519911],\n",
       "       [6.35141114, 2.95194396],\n",
       "       [6.48291459, 3.01993331],\n",
       "       [6.61700336, 3.08919293],\n",
       "       [6.75372961, 3.15974914],\n",
       "       [6.89314651, 3.23162875],\n",
       "       [7.03530833, 3.3048591 ],\n",
       "       [7.1802704 , 3.37946809],\n",
       "       [7.32808915, 3.45548413],\n",
       "       [7.47882214, 3.53293624],\n",
       "       [7.63252808, 3.61185395],\n",
       "       [7.78926684, 3.69226744],\n",
       "       [7.9490995 , 3.77420742],\n",
       "       [8.11208834, 3.85770527],\n",
       "       [8.27829688, 3.94279293],\n",
       "       [8.44778993, 4.02950301],\n",
       "       [8.62063357, 4.11786874],\n",
       "       [8.7968952 , 4.20792404],\n",
       "       [8.97664358, 4.29970346],\n",
       "       [9.15994881, 4.39324227],\n",
       "       [9.34688243, 4.4885764 ],\n",
       "       [9.53751738, 4.58574252]])"
      ]
     },
     "execution_count": 26,
     "metadata": {},
     "output_type": "execute_result"
    }
   ],
   "source": [
    "a=0\n",
    "b=1\n",
    "c=[1,0]\n",
    "N=100\n",
    "\n",
    "def f(z,t):\n",
    "    x,y = z\n",
    "    dxdt = 3*x - 2*y\n",
    "    dydt = 2*x - 2*y\n",
    "    return np.array([dxdt,dydt])\n",
    "zEuler = EulerMethodSyst(a,b,c,N,f)\n",
    "zEuler"
   ]
  },
  {
   "cell_type": "code",
   "execution_count": 25,
   "metadata": {},
   "outputs": [
    {
     "data": {
      "text/plain": [
       "array([[1.        , 0.        ],\n",
       "       [1.03025   , 0.0201    ],\n",
       "       [1.06101105, 0.04040603],\n",
       "       [1.09229448, 0.06092423],\n",
       "       [1.12411181, 0.08166086],\n",
       "       [1.15647481, 0.10262229],\n",
       "       [1.18939546, 0.12381499],\n",
       "       [1.22288599, 0.14524554],\n",
       "       [1.25695886, 0.16692064],\n",
       "       [1.29162676, 0.1888471 ],\n",
       "       [1.32690264, 0.21103185],\n",
       "       [1.36279971, 0.23348196],\n",
       "       [1.39933141, 0.25620459],\n",
       "       [1.43651147, 0.27920706],\n",
       "       [1.47435388, 0.3024968 ],\n",
       "       [1.5128729 , 0.32608138],\n",
       "       [1.55208307, 0.3499685 ],\n",
       "       [1.59199922, 0.374166  ],\n",
       "       [1.63263646, 0.39868186],\n",
       "       [1.6740102 , 0.42352422],\n",
       "       [1.71613618, 0.44870134],\n",
       "       [1.7590304 , 0.47422165],\n",
       "       [1.80270921, 0.50009373],\n",
       "       [1.84718928, 0.52632631],\n",
       "       [1.8924876 , 0.55292828],\n",
       "       [1.93862149, 0.57990872],\n",
       "       [1.98560863, 0.60727684],\n",
       "       [2.03346702, 0.63504203],\n",
       "       [2.08221506, 0.66321388],\n",
       "       [2.13187146, 0.69180213],\n",
       "       [2.18245535, 0.7208167 ],\n",
       "       [2.23398621, 0.75026772],\n",
       "       [2.28648391, 0.78016549],\n",
       "       [2.33996872, 0.8105205 ],\n",
       "       [2.39446132, 0.84134346],\n",
       "       [2.44998277, 0.87264527],\n",
       "       [2.50655458, 0.90443702],\n",
       "       [2.56419867, 0.93673002],\n",
       "       [2.6229374 , 0.96953582],\n",
       "       [2.68279359, 1.00286614],\n",
       "       [2.74379049, 1.03673297],\n",
       "       [2.80595182, 1.0711485 ],\n",
       "       [2.86930177, 1.10612516],\n",
       "       [2.93386504, 1.14167562],\n",
       "       [2.99966677, 1.1778128 ],\n",
       "       [3.06673266, 1.21454984],\n",
       "       [3.13508887, 1.25190017],\n",
       "       [3.20476211, 1.28987746],\n",
       "       [3.27577963, 1.32849563],\n",
       "       [3.3481692 , 1.36776888],\n",
       "       [3.42195917, 1.40771171],\n",
       "       [3.49717842, 1.44833885],\n",
       "       [3.57385646, 1.48966536],\n",
       "       [3.65202335, 1.53170657],\n",
       "       [3.73170975, 1.57447811],\n",
       "       [3.81294696, 1.61799591],\n",
       "       [3.89576689, 1.66227623],\n",
       "       [3.98020208, 1.70733562],\n",
       "       [4.06628575, 1.75319097],\n",
       "       [4.15405176, 1.79985949],\n",
       "       [4.24353465, 1.84735874],\n",
       "       [4.33476966, 1.89570661],\n",
       "       [4.42779274, 1.94492135],\n",
       "       [4.52264055, 1.99502156],\n",
       "       [4.61935049, 2.0460262 ],\n",
       "       [4.71796072, 2.09795462],\n",
       "       [4.81851014, 2.15082654],\n",
       "       [4.92103846, 2.20466206],\n",
       "       [5.02558617, 2.25948169],\n",
       "       [5.13219457, 2.31530634],\n",
       "       [5.24090579, 2.37215733],\n",
       "       [5.35176283, 2.43005639],\n",
       "       [5.46480952, 2.48902569],\n",
       "       [5.5800906 , 2.54908785],\n",
       "       [5.69765167, 2.61026591],\n",
       "       [5.81753929, 2.67258339],\n",
       "       [5.93980093, 2.73606427],\n",
       "       [6.06448501, 2.80073298],\n",
       "       [6.19164095, 2.86661447],\n",
       "       [6.32131914, 2.93373416],\n",
       "       [6.45357099, 3.00211799],\n",
       "       [6.58844894, 3.07179241],\n",
       "       [6.72600649, 3.14278439],\n",
       "       [6.86629822, 3.21512143],\n",
       "       [7.0093798 , 3.28883159],\n",
       "       [7.15530802, 3.3639435 ],\n",
       "       [7.30414083, 3.44048632],\n",
       "       [7.45593731, 3.51848982],\n",
       "       [7.61075777, 3.59798437],\n",
       "       [7.76866371, 3.67900091],\n",
       "       [7.92971787, 3.76157103],\n",
       "       [8.09398425, 3.84572694],\n",
       "       [8.26152817, 3.93150148],\n",
       "       [8.43241621, 4.01892817],\n",
       "       [8.60671635, 4.10804117],\n",
       "       [8.78449789, 4.19887535],\n",
       "       [8.96583156, 4.29146625],\n",
       "       [9.15078949, 4.38585014],\n",
       "       [9.33944528, 4.482064  ],\n",
       "       [9.53187402, 4.58014557],\n",
       "       [9.72815228, 4.68013333]])"
      ]
     },
     "execution_count": 25,
     "metadata": {},
     "output_type": "execute_result"
    }
   ],
   "source": [
    "zRK2 = RangeKutta2syst(a,b,c,N,f)\n",
    "zRK2"
   ]
  },
  {
   "cell_type": "code",
   "execution_count": 14,
   "metadata": {},
   "outputs": [
    {
     "data": {
      "text/plain": [
       "[<matplotlib.lines.Line2D at 0x1ce435b1b50>]"
      ]
     },
     "execution_count": 14,
     "metadata": {},
     "output_type": "execute_result"
    },
    {
     "data": {
      "image/png": "[encoded data removed]",
      "text/plain": [
       "<Figure size 432x288 with 1 Axes>"
      ]
     },
     "metadata": {
      "needs_background": "light"
     },
     "output_type": "display_data"
    }
   ],
   "source": [
    "Xt = -1/3*np.exp(-t) + 4/3*np.exp(2*t)\n",
    "Yt = -2/3*np.exp(-t) + 2/3*np.exp(2*t)\n",
    "\n",
    "#plt.subplot(2,2,1)\n",
    "plt.plot(t, Xt)\n",
    "plt.plot(t, Yt)"
   ]
  },
  {
   "cell_type": "code",
   "execution_count": 15,
   "metadata": {},
   "outputs": [
    {
     "data": {
      "text/plain": [
       "<matplotlib.legend.Legend at 0x1ce438ecd90>"
      ]
     },
     "execution_count": 15,
     "metadata": {},
     "output_type": "execute_result"
    },
    {
     "data": {
      "image/png": "[encoded data removed]",
      "text/plain": [
       "<Figure size 432x288 with 2 Axes>"
      ]
     },
     "metadata": {
      "needs_background": "light"
     },
     "output_type": "display_data"
    }
   ],
   "source": [
    "#ERRORS\n",
    "zEuler = EulerMethodSyst(a,b,c,N,f)\n",
    "xEuler = zEuler[:,0]\n",
    "yEuler = zEuler[:,1]\n",
    "xRK2 = zRK2[:,0]\n",
    "yRK2 = zRK2[:,1]\n",
    "Er1 = abs(Xt - xEuler)\n",
    "Er2 = abs(Yt - yEuler)\n",
    "Er3 = abs(Xt - xRK2)\n",
    "Er4 = abs(Yt - yRK2)\n",
    "\n",
    "plt.subplot(2,1,1)\n",
    "plt.plot(t,Er1)\n",
    "plt.plot(t,Er3)\n",
    "plt.legend([ 'Euler', 'RK2'])\n",
    "\n",
    "plt.subplot(2,1,2)\n",
    "plt.plot(t, Er2)\n",
    "plt.plot(t, Er4)\n",
    "plt.legend([ 'Euler', 'RK2'])"
   ]
  },
  {
   "cell_type": "code",
   "execution_count": 16,
   "metadata": {},
   "outputs": [
    {
     "data": {
      "text/plain": [
       "<matplotlib.legend.Legend at 0x1ce439e9fd0>"
      ]
     },
     "execution_count": 16,
     "metadata": {},
     "output_type": "execute_result"
    },
    {
     "data": {
      "image/png": "[encoded data removed]",
      "text/plain": [
       "<Figure size 432x288 with 2 Axes>"
      ]
     },
     "metadata": {
      "needs_background": "light"
     },
     "output_type": "display_data"
    }
   ],
   "source": [
    "plt.subplot(2,1,1)\n",
    "plt.plot(t, xEuler)\n",
    "plt.plot(t, xRK2)\n",
    "plt.plot(t[::5], Xt[::5], '*')\n",
    "plt.legend(['Euler', 'RK2', 'Exact'])\n",
    "\n",
    "plt.subplot(2,1,2)\n",
    "plt.plot(t, yEuler)\n",
    "plt.plot(t, yRK2)\n",
    "plt.plot(t[::5],Yt[::5], '*')\n",
    "plt.legend(['Euler', 'RK2', 'Exact'])"
   ]
  },
  {
   "cell_type": "code",
   "execution_count": 31,
   "metadata": {},
   "outputs": [],
   "source": [
    "def ExpoMethod(a,b,A,F,h,u0):\n",
    "    N = int((b-a)/h)\n",
    "    t = np.linspace(a,b,N+1)\n",
    "  #  t = np.arange(a,b+h,h)\n",
    "   # I = np.eye(np.shape(A)[0])\n",
    "    #I = np.eye(len(A))\n",
    "    B1 = sc.linalg.expm(h*A)\n",
    "    #B2 = (np.exp(h*A) - I)@np.linalg.inv(A)\n",
    "    \n",
    "    U = np.zeros((N+1, len(u0)))\n",
    "    U[0] = u0\n",
    "    \n",
    "    for i in range (0,N):\n",
    "        U[i+1] = np.dot(B1,U[i]) #+ np.dot(B2,F(U[i],t[i]))\n",
    "       # U[i+1] = B1@np.transpose(U[i]) + B2@np.transpose((F(U[i],t[i])))\n",
    "    return U, t"
   ]
  },
  {
   "cell_type": "code",
   "execution_count": 18,
   "metadata": {
    "scrolled": true
   },
   "outputs": [],
   "source": [
    "a = 0\n",
    "b = 1\n",
    "h = 0.0025\n",
    "A = np.array([[-5,-4,2],[-2,-2,-2],[4,2,2]])\n",
    "u0 = np.array([2,1,2])\n",
    "\n",
    "def F(u,t):\n",
    "    dxdt = t**3\n",
    "    dydt = 0\n",
    "    dzdt = t**2\n",
    "    return np.array([dxdt,dydt,dzdt])\n",
    "\n",
    "U,t = ExpoMethod(a,b,A,F,h,u0)\n",
    "\n",
    "\n",
    "def G(u,t):\n",
    "    g = np.empty(len(u))\n",
    "    return g\n",
    "U1, t1 = ExpoMethod(a,b,A,G,h,u0)"
   ]
  },
  {
   "cell_type": "code",
   "execution_count": 21,
   "metadata": {},
   "outputs": [
    {
     "data": {
      "text/plain": [
       "array([1, 0])"
      ]
     },
     "execution_count": 21,
     "metadata": {},
     "output_type": "execute_result"
    }
   ],
   "source": [
    "a = 0\n",
    "b = 1\n",
    "h = 1/100\n",
    "A = np.array([[3,-2],[2,-2]])\n",
    "u0 = np.array([1,0])\n"
   ]
  },
  {
   "cell_type": "code",
   "execution_count": 32,
   "metadata": {},
   "outputs": [
    {
     "ename": "AttributeError",
     "evalue": "module 'scipy' has no attribute 'linalg'",
     "output_type": "error",
     "traceback": [
      "\u001b[1;31m---------------------------------------------------------------------------\u001b[0m",
      "\u001b[1;31mAttributeError\u001b[0m                            Traceback (most recent call last)",
      "\u001b[1;32m<ipython-input-32-3b04dd705d10>\u001b[0m in \u001b[0;36m<module>\u001b[1;34m\u001b[0m\n\u001b[1;32m----> 1\u001b[1;33m \u001b[0mUexpo\u001b[0m\u001b[1;33m,\u001b[0m \u001b[0mT\u001b[0m \u001b[1;33m=\u001b[0m \u001b[0mExpoMethod\u001b[0m\u001b[1;33m(\u001b[0m\u001b[0ma\u001b[0m\u001b[1;33m,\u001b[0m\u001b[0mb\u001b[0m\u001b[1;33m,\u001b[0m\u001b[0mA\u001b[0m\u001b[1;33m,\u001b[0m\u001b[0mG\u001b[0m\u001b[1;33m,\u001b[0m\u001b[0mh\u001b[0m\u001b[1;33m,\u001b[0m\u001b[0mu0\u001b[0m\u001b[1;33m)\u001b[0m\u001b[1;33m\u001b[0m\u001b[1;33m\u001b[0m\u001b[0m\n\u001b[0m",
      "\u001b[1;32m<ipython-input-31-3652ceef2fac>\u001b[0m in \u001b[0;36mExpoMethod\u001b[1;34m(a, b, A, F, h, u0)\u001b[0m\n\u001b[0;32m      5\u001b[0m    \u001b[1;31m# I = np.eye(np.shape(A)[0])\u001b[0m\u001b[1;33m\u001b[0m\u001b[1;33m\u001b[0m\u001b[1;33m\u001b[0m\u001b[0m\n\u001b[0;32m      6\u001b[0m     \u001b[1;31m#I = np.eye(len(A))\u001b[0m\u001b[1;33m\u001b[0m\u001b[1;33m\u001b[0m\u001b[1;33m\u001b[0m\u001b[0m\n\u001b[1;32m----> 7\u001b[1;33m     \u001b[0mB1\u001b[0m \u001b[1;33m=\u001b[0m \u001b[0msc\u001b[0m\u001b[1;33m.\u001b[0m\u001b[0mlinalg\u001b[0m\u001b[1;33m.\u001b[0m\u001b[0mexpm\u001b[0m\u001b[1;33m(\u001b[0m\u001b[0mh\u001b[0m\u001b[1;33m*\u001b[0m\u001b[0mA\u001b[0m\u001b[1;33m)\u001b[0m\u001b[1;33m\u001b[0m\u001b[1;33m\u001b[0m\u001b[0m\n\u001b[0m\u001b[0;32m      8\u001b[0m     \u001b[1;31m#B2 = (np.exp(h*A) - I)@np.linalg.inv(A)\u001b[0m\u001b[1;33m\u001b[0m\u001b[1;33m\u001b[0m\u001b[1;33m\u001b[0m\u001b[0m\n\u001b[0;32m      9\u001b[0m \u001b[1;33m\u001b[0m\u001b[0m\n",
      "\u001b[1;31mAttributeError\u001b[0m: module 'scipy' has no attribute 'linalg'"
     ]
    }
   ],
   "source": [
    "Uexpo, T = ExpoMethod(a,b,A,G,h,u0)"
   ]
  },
  {
   "cell_type": "code",
   "execution_count": 30,
   "metadata": {},
   "outputs": [
    {
     "data": {
      "text/plain": [
       "array([[ 1.00000000e+00,  0.00000000e+00],\n",
       "       [-6.97922011e+01, -1.06526587e+01],\n",
       "       [-1.36418482e+02, -1.40932844e+02],\n",
       "       [-2.44372046e+02, -2.72671458e+02],\n",
       "       [-4.91348502e+02, -4.86824885e+02],\n",
       "       [-1.00012032e+03, -9.80183732e+02],\n",
       "       [-2.00556568e+03, -1.99602061e+03],\n",
       "       [-4.01511096e+03, -4.00201564e+03],\n",
       "       [-8.05288741e+03, -8.01151532e+03],\n",
       "       [-1.61548819e+04, -1.60685737e+04],\n",
       "       [-3.24009822e+04, -3.22353700e+04],\n",
       "       [-6.49829442e+04, -6.46526026e+04],\n",
       "       [-1.30332468e+05, -1.29666210e+05],\n",
       "       [-2.61401222e+05, -2.60063962e+05],\n",
       "       [-5.24277392e+05, -5.21597164e+05],\n",
       "       [-1.05151244e+06, -1.04613739e+06],\n",
       "       [-2.10895774e+06, -2.09817641e+06],\n",
       "       [-4.22981500e+06, -4.20819122e+06],\n",
       "       [-8.48349575e+06, -8.44012662e+06],\n",
       "       [-1.70148575e+07, -1.69278747e+07],\n",
       "       [-3.41257172e+07, -3.39512606e+07],\n",
       "       [-6.84439806e+07, -6.80940830e+07],\n",
       "       [-1.37274140e+08, -1.36572371e+08],\n",
       "       [-2.75322816e+08, -2.73915318e+08],\n",
       "       [-5.52199076e+08, -5.49376137e+08],\n",
       "       [-1.10751380e+09, -1.10185200e+09],\n",
       "       [-2.22127649e+09, -2.20992093e+09],\n",
       "       [-4.45508599e+09, -4.43231081e+09],\n",
       "       [-8.93530874e+09, -8.88962988e+09],\n",
       "       [-1.79210328e+10, -1.78294174e+10],\n",
       "       [-3.59431808e+10, -3.57594329e+10],\n",
       "       [-7.20891623e+10, -7.17206299e+10],\n",
       "       [-1.44585070e+11, -1.43845926e+11],\n",
       "       [-2.89985927e+11, -2.88503469e+11],\n",
       "       [-5.81608031e+11, -5.78634749e+11],\n",
       "       [-1.16649765e+12, -1.16053431e+12],\n",
       "       [-2.33957697e+12, -2.32761665e+12],\n",
       "       [-4.69235445e+12, -4.66836631e+12],\n",
       "       [-9.41118439e+12, -9.36307277e+12],\n",
       "       [-1.88754691e+13, -1.87789744e+13],\n",
       "       [-3.78574386e+13, -3.76639047e+13],\n",
       "       [-7.59284786e+13, -7.55403190e+13],\n",
       "       [-1.52285366e+14, -1.51506856e+14],\n",
       "       [-3.05429965e+14, -3.03868553e+14],\n",
       "       [-6.12583245e+14, -6.09451612e+14],\n",
       "       [-1.22862284e+15, -1.22234191e+15],\n",
       "       [-2.46417790e+15, -2.45158059e+15],\n",
       "       [-4.94225933e+15, -4.91699363e+15],\n",
       "       [-9.91240417e+15, -9.86173022e+15],\n",
       "       [-1.98807367e+16, -1.97791029e+16],\n",
       "       [-3.98736457e+16, -3.96698046e+16],\n",
       "       [-7.99722689e+16, -7.95634366e+16],\n",
       "       [-1.60395762e+17, -1.59575791e+17],\n",
       "       [-3.21696519e+17, -3.20051950e+17],\n",
       "       [-6.45208133e+17, -6.41909716e+17],\n",
       "       [-1.29405670e+18, -1.28744125e+18],\n",
       "       [-2.59541480e+18, -2.58214659e+18],\n",
       "       [-5.20547361e+18, -5.17886232e+18],\n",
       "       [-1.04403179e+19, -1.03869451e+19],\n",
       "       [-2.09395427e+19, -2.08324961e+19],\n",
       "       [-4.19972317e+19, -4.17825346e+19],\n",
       "       [-8.42314228e+19, -8.38008170e+19],\n",
       "       [-1.68938101e+20, -1.68074460e+20],\n",
       "       [-3.38829395e+20, -3.37097240e+20],\n",
       "       [-6.79570554e+20, -6.76096470e+20],\n",
       "       [-1.36297542e+21, -1.35600765e+21],\n",
       "       [-2.73364111e+21, -2.71966625e+21],\n",
       "       [-5.48270613e+21, -5.45467757e+21],\n",
       "       [-1.09963471e+22, -1.09401319e+22],\n",
       "       [-2.20547385e+22, -2.19419908e+22],\n",
       "       [-4.42339155e+22, -4.40077840e+22],\n",
       "       [-8.87174103e+22, -8.82638714e+22],\n",
       "       [-1.77935387e+23, -1.77025750e+23],\n",
       "       [-3.56874732e+23, -3.55050326e+23],\n",
       "       [-7.15763045e+23, -7.12103939e+23],\n",
       "       [-1.43556461e+24, -1.42822575e+24],\n",
       "       [-2.87922905e+24, -2.86450993e+24],\n",
       "       [-5.77470346e+24, -5.74518217e+24],\n",
       "       [-1.15819893e+25, -1.15227801e+25],\n",
       "       [-2.32293272e+25, -2.31105748e+25],\n",
       "       [-4.65897203e+25, -4.63515455e+25],\n",
       "       [-9.34423119e+25, -9.29646185e+25],\n",
       "       [-1.87411850e+26, -1.86453768e+26],\n",
       "       [-3.75881126e+26, -3.73959556e+26],\n",
       "       [-7.53883071e+26, -7.50029089e+26],\n",
       "       [-1.51201975e+27, -1.50429004e+27],\n",
       "       [-3.03257070e+27, -3.01706767e+27],\n",
       "       [-6.08225196e+27, -6.05115842e+27],\n",
       "       [-1.21988216e+28, -1.21364591e+28],\n",
       "       [-2.44664720e+28, -2.43413952e+28],\n",
       "       [-4.90709903e+28, -4.88201308e+28],\n",
       "       [-9.84188519e+28, -9.79157175e+28],\n",
       "       [-1.97393009e+29, -1.96383901e+29],\n",
       "       [-3.95899760e+29, -3.93875851e+29],\n",
       "       [-7.94033289e+29, -7.89974052e+29],\n",
       "       [-1.59254672e+30, -1.58440534e+30],\n",
       "       [-3.19407900e+30, -3.17775031e+30],\n",
       "       [-6.40617983e+30, -6.37343032e+30],\n",
       "       [-1.28485050e+31, -1.27828212e+31],\n",
       "       [-2.57695046e+31, -2.56377664e+31],\n",
       "       [-5.16844075e+31, -5.14201878e+31]])"
      ]
     },
     "execution_count": 30,
     "metadata": {},
     "output_type": "execute_result"
    }
   ],
   "source": [
    "Uexpo"
   ]
  },
  {
   "cell_type": "code",
   "execution_count": null,
   "metadata": {},
   "outputs": [],
   "source": []
  }
 ],
 "metadata": {
  "kernelspec": {
   "display_name": "Python 3",
   "language": "python",
   "name": "python3"
  },
  "language_info": {
   "codemirror_mode": {
    "name": "ipython",
    "version": 3
   },
   "file_extension": ".py",
   "mimetype": "text/x-python",
   "name": "python",
   "nbconvert_exporter": "python",
   "pygments_lexer": "ipython3",
   "version": "3.8.5"
  }
 },
 "nbformat": 4,
 "nbformat_minor": 2
}
